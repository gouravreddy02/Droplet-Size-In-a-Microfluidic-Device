{
  "nbformat": 4,
  "nbformat_minor": 0,
  "metadata": {
    "colab": {
      "provenance": [],
      "authorship_tag": "ABX9TyP6EdvIhyUbW+6q1w48/HEo",
      "include_colab_link": true
    },
    "kernelspec": {
      "name": "python3",
      "display_name": "Python 3"
    },
    "language_info": {
      "name": "python"
    }
  },
  "cells": [
    {
      "cell_type": "markdown",
      "metadata": {
        "id": "view-in-github",
        "colab_type": "text"
      },
      "source": [
        "<a href=\"https://colab.research.google.com/github/gouravreddy02/Droplet-Size-In-a-Microfluidic-Device/blob/main/Randon_Forest.ipynb\" target=\"_parent\"><img src=\"https://colab.research.google.com/assets/colab-badge.svg\" alt=\"Open In Colab\"/></a>"
      ]
    },
    {
      "cell_type": "code",
      "execution_count": null,
      "metadata": {
        "colab": {
          "base_uri": "https://localhost:8080/"
        },
        "id": "ywzVbitXImuN",
        "outputId": "75fb55b4-e862-4525-ac2b-3af4466a4116"
      },
      "outputs": [
        {
          "output_type": "stream",
          "name": "stdout",
          "text": [
            "R-squared score: -0.412 (+/- 0.165)\n",
            "Root Mean Squared Error: 134.668 (+/- 15.620)\n"
          ]
        }
      ],
      "source": [
        "# import xgboost as xgb\n",
        "# from sklearn.model_selection import KFold\n",
        "# from sklearn.metrics import r2_score, mean_squared_error\n",
        "# import numpy as np\n",
        "# import pandas as pd\n",
        "\n",
        "# df = pd.read_csv('Droplet_Size.csv')\n",
        "# # split data into input features (X) and output variable (Y)\n",
        "# X = df.iloc[:, :-1]\n",
        "# Y = df.iloc[:, -1]\n",
        "\n",
        "# # set XGBoost parameters\n",
        "# params = {\n",
        "#     'max_depth': 4,\n",
        "#     'eta': 0.1,\n",
        "#     'subsample': 0.8,\n",
        "#     'colsample_bytree': 0.8,\n",
        "#     'objective': 'reg:squarederror'\n",
        "# }\n",
        "\n",
        "# # perform k-fold cross-validation\n",
        "# kf = KFold(n_splits=5, shuffle=True, random_state=123)\n",
        "# r2_scores = []\n",
        "# rmse_scores = []\n",
        "\n",
        "# for train_index, test_index in kf.split(X):\n",
        "#     # split data into train and test sets\n",
        "#     X_train, X_test = X.iloc[train_index], X.iloc[test_index]\n",
        "#     Y_train, Y_test = Y.iloc[train_index], Y.iloc[test_index]\n",
        "\n",
        "#     # fit the XGBoost model to the train data\n",
        "#     dtrain = xgb.DMatrix(X_train, label=Y_train)\n",
        "#     model = xgb.train(params, dtrain)\n",
        "\n",
        "#     # make predictions on the test data\n",
        "#     dtest = xgb.DMatrix(X_test)\n",
        "#     Y_pred = model.predict(dtest)\n",
        "\n",
        "#     # calculate evaluation metrics\n",
        "#     r2 = r2_score(Y_test, Y_pred)\n",
        "#     rmse = np.sqrt(mean_squared_error(Y_test, Y_pred))\n",
        "\n",
        "#     # store the scores for this fold\n",
        "#     r2_scores.append(r2)\n",
        "#     rmse_scores.append(rmse)\n",
        "\n",
        "# # calculate the mean and standard deviation of the scores\n",
        "# mean_r2 = np.mean(r2_scores)\n",
        "# std_r2 = np.std(r2_scores)\n",
        "# mean_rmse = np.mean(rmse_scores)\n",
        "# std_rmse = np.std(rmse_scores)\n",
        "\n",
        "# # print the evaluation metrics\n",
        "# print(\"R-squared score: %.3f (+/- %.3f)\" % (mean_r2, std_r2))\n",
        "# print(\"Root Mean Squared Error: %.3f (+/- %.3f)\" % (mean_rmse, std_rmse))"
      ]
    },
    {
      "cell_type": "code",
      "source": [
        "# import xgboost as xgb\n",
        "# from sklearn.model_selection import train_test_split\n",
        "# from sklearn.metrics import r2_score, mean_squared_error\n",
        "# import numpy as np\n",
        "# import pandas as pd\n",
        "\n",
        "# df = pd.read_csv('Droplet_Size.csv')\n",
        "\n",
        "# # split data into input features (X) and output variable (Y)\n",
        "# X = df.iloc[:, :-1]\n",
        "# Y = df.iloc[:, -1]\n",
        "\n",
        "# # split data into training and testing sets\n",
        "# X_train, X_test, Y_train, Y_test = train_test_split(X, Y, test_size=0.2, random_state=123)\n",
        "\n",
        "# # fit the XGBoost model to the training data\n",
        "# model = xgb.XGBRegressor()\n",
        "# model.fit(X_train, Y_train)\n",
        "\n",
        "# # make predictions on the test data\n",
        "# Y_pred = model.predict(X_test)\n",
        "\n",
        "# # calculate evaluation metrics\n",
        "# r2 = r2_score(Y_test, Y_pred)\n",
        "# rmse = np.sqrt(mean_squared_error(Y_test, Y_pred))\n",
        "\n",
        "# # print the evaluation metrics\n",
        "# print(\"R-squared score: %.3f\" % r2)\n",
        "# print(\"Root Mean Squared Error: %.3f\" % rmse)"
      ],
      "metadata": {
        "colab": {
          "base_uri": "https://localhost:8080/"
        },
        "id": "abpsAFi5Qj1O",
        "outputId": "7b5d7452-90b2-47cb-d490-f17c556f7bde"
      },
      "execution_count": null,
      "outputs": [
        {
          "output_type": "stream",
          "name": "stdout",
          "text": [
            "R-squared score: 0.980\n",
            "Root Mean Squared Error: 13.937\n"
          ]
        }
      ]
    },
    {
      "cell_type": "code",
      "source": [
        "importance_scores = model.feature_importances_\n",
        "print(importance_scores)"
      ],
      "metadata": {
        "colab": {
          "base_uri": "https://localhost:8080/"
        },
        "id": "hKz2d_4WRb6x",
        "outputId": "818923ff-b143-4c9a-aae6-f1f926f3663b"
      },
      "execution_count": null,
      "outputs": [
        {
          "output_type": "stream",
          "name": "stdout",
          "text": [
            "[0.99306846 0.00693154]\n"
          ]
        }
      ]
    },
    {
      "cell_type": "markdown",
      "source": [
        "# random forest"
      ],
      "metadata": {
        "id": "iUhNAGckWJTb"
      }
    },
    {
      "cell_type": "code",
      "source": [
        "from sklearn.ensemble import RandomForestRegressor\n",
        "from sklearn.model_selection import train_test_split\n",
        "from sklearn.metrics import r2_score, mean_squared_error\n",
        "import numpy as np\n",
        "import pandas as pd\n",
        "\n",
        "df = pd.read_csv('Droplet_Size.csv')\n",
        "\n",
        "# split data into input features (X) and output variable (Y)\n",
        "X = df.iloc[:, :-1]\n",
        "Y = df.iloc[:, -1]\n",
        "\n",
        "# split data into training and testing sets\n",
        "X_train, X_test, Y_train, Y_test = train_test_split(X, Y, test_size=0.2, random_state=123)\n",
        "\n",
        "# fit the Random Forest model to the training data\n",
        "model = RandomForestRegressor(random_state=123)\n",
        "model.fit(X_train, Y_train)\n",
        "\n",
        "# make predictions on the test data\n",
        "Y_pred = model.predict(X_test)\n",
        "\n",
        "# calculate evaluation metrics\n",
        "r2 = r2_score(Y_test, Y_pred)\n",
        "rmse = np.sqrt(mean_squared_error(Y_test, Y_pred))\n",
        "\n",
        "# print the evaluation metrics\n",
        "print(\"R-squared score: %.3f\" % r2)\n",
        "print(\"Root Mean Squared Error: %.3f\" % rmse)"
      ],
      "metadata": {
        "colab": {
          "base_uri": "https://localhost:8080/"
        },
        "id": "TDhmZXhMWMQ5",
        "outputId": "6f8b1727-3182-4bc0-9ad9-c67cf16df9fb"
      },
      "execution_count": null,
      "outputs": [
        {
          "output_type": "stream",
          "name": "stdout",
          "text": [
            "R-squared score: 0.977\n",
            "Root Mean Squared Error: 14.723\n"
          ]
        }
      ]
    }
  ]
}