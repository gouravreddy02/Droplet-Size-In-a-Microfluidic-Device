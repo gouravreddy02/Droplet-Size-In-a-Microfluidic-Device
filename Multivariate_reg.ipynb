{
  "nbformat": 4,
  "nbformat_minor": 0,
  "metadata": {
    "colab": {
      "provenance": [],
      "authorship_tag": "ABX9TyPF9Z/22R++IdKI96XfXjQt",
      "include_colab_link": true
    },
    "kernelspec": {
      "name": "python3",
      "display_name": "Python 3"
    },
    "language_info": {
      "name": "python"
    }
  },
  "cells": [
    {
      "cell_type": "markdown",
      "metadata": {
        "id": "view-in-github",
        "colab_type": "text"
      },
      "source": [
        "<a href=\"https://colab.research.google.com/github/gouravreddy02/Droplet-Size-In-a-Microfluidic-Device/blob/main/Multivariate_reg.ipynb\" target=\"_parent\"><img src=\"https://colab.research.google.com/assets/colab-badge.svg\" alt=\"Open In Colab\"/></a>"
      ]
    },
    {
      "cell_type": "code",
      "execution_count": null,
      "metadata": {
        "id": "7pOK1pfNqDY3"
      },
      "outputs": [],
      "source": [
        "from sklearn.model_selection import train_test_split\n",
        "from sklearn.linear_model import LinearRegression\n",
        "from sklearn.model_selection import KFold\n",
        "from sklearn.metrics import mean_squared_error\n",
        "import matplotlib.pyplot as plt\n",
        "import pandas as pd\n",
        "import numpy as np\n",
        "import math"
      ]
    },
    {
      "cell_type": "code",
      "source": [
        "df = pd.read_csv('Droplet_Size.csv')"
      ],
      "metadata": {
        "id": "jgLdlNHxqJZU"
      },
      "execution_count": null,
      "outputs": []
    },
    {
      "cell_type": "code",
      "source": [
        "df.shape"
      ],
      "metadata": {
        "colab": {
          "base_uri": "https://localhost:8080/"
        },
        "id": "MFDkkZOyjfsj",
        "outputId": "8c14ebcb-9509-49e9-fdbd-cf397213614f"
      },
      "execution_count": null,
      "outputs": [
        {
          "output_type": "execute_result",
          "data": {
            "text/plain": [
              "(60, 3)"
            ]
          },
          "metadata": {},
          "execution_count": 3
        }
      ]
    },
    {
      "cell_type": "code",
      "source": [
        "X = df.iloc[:, :-1].values\n",
        "Y = df.iloc[:, -1].values"
      ],
      "metadata": {
        "id": "9ZkQgNnrOF4o"
      },
      "execution_count": null,
      "outputs": []
    },
    {
      "cell_type": "code",
      "source": [
        "reg = LinearRegression().fit(X, Y)\n"
      ],
      "metadata": {
        "id": "3o1ps3fdQDuI"
      },
      "execution_count": null,
      "outputs": []
    },
    {
      "cell_type": "code",
      "source": [
        "df.plot.scatter (\"Viscosity \",\"Size\")\n",
        "df.plot.scatter (\"Flow rate Ratio\",\"Size\")\n"
      ],
      "metadata": {
        "colab": {
          "base_uri": "https://localhost:8080/",
          "height": 558
        },
        "id": "4FHrO18fUxT1",
        "outputId": "27600b01-fe20-46dd-827f-a6f8cea7b6ee"
      },
      "execution_count": null,
      "outputs": [
        {
          "output_type": "execute_result",
          "data": {
            "text/plain": [
              "<Axes: xlabel='Flow rate Ratio', ylabel='Size'>"
            ]
          },
          "metadata": {},
          "execution_count": 14
        },
        {
          "output_type": "display_data",
          "data": {
            "text/plain": [
              "<Figure size 432x288 with 1 Axes>"
            ],
            "image/png": "[encoded data removed]"
          },
          "metadata": {
            "needs_background": "light"
          }
        },
        {
          "output_type": "display_data",
          "data": {
            "text/plain": [
              "<Figure size 432x288 with 1 Axes>"
            ],
            "image/png": "[encoded data removed]"
          },
          "metadata": {
            "needs_background": "light"
          }
        }
      ]
    },
    {
      "cell_type": "code",
      "source": [
        "print(\"Intercept: \", reg.intercept_)\n",
        "print(\"Coefficients: \", reg.coef_)"
      ],
      "metadata": {
        "colab": {
          "base_uri": "https://localhost:8080/"
        },
        "id": "7EBD7ZDgQ-fi",
        "outputId": "4bbda380-c79e-4080-d742-58b27469954b"
      },
      "execution_count": null,
      "outputs": [
        {
          "output_type": "stream",
          "name": "stdout",
          "text": [
            "Intercept:  570.598245614035\n",
            "Coefficients:  [-138.5          -2.60776942]\n"
          ]
        }
      ]
    },
    {
      "cell_type": "markdown",
      "source": [
        "# K-fold cross validation"
      ],
      "metadata": {
        "id": "4407mhxCTxAz"
      }
    },
    {
      "cell_type": "code",
      "source": [
        "# specify the number of folds for k-fold cross-validation\n",
        "num_folds = 5\n",
        "\n",
        "# create a KFold object to generate the folds\n",
        "kf = KFold(n_splits=num_folds, shuffle=True)\n",
        "\n",
        "# create a list to store the mean absolute errors for each fold\n",
        "mae_list = []\n",
        "\n",
        "# loop over the folds and fit a model to each training set, then evaluate the model on the test set\n",
        "for train_idx, test_idx in kf.split(X):\n",
        "    # extract the training and test sets\n",
        "    X_train, X_test = X[train_idx], X[test_idx]\n",
        "    Y_train, Y_test = Y[train_idx], Y[test_idx]\n",
        "\n",
        "    # create a LinearRegression object and fit the model to the training set\n",
        "    reg = LinearRegression().fit(X_train, Y_train)\n",
        "\n",
        "    # make predictions on the test set\n",
        "    Y_pred = reg.predict(X_test)\n",
        "\n",
        "    # calculate the mean absolute error of the predictions\n",
        "    mae = np.mean(np.abs(Y_pred - Y_test))\n",
        "\n",
        "    # add the mean absolute error to the list\n",
        "    mae_list.append(mae)\n",
        "\n",
        "# print the mean and standard deviation of the mean absolute errors for all folds\n",
        "print(\"Mean MAE: \", np.mean(mae_list))\n",
        "print(\"Std Dev MAE: \", np.std(mae_list))"
      ],
      "metadata": {
        "colab": {
          "base_uri": "https://localhost:8080/"
        },
        "id": "t2KlrAvKUHTp",
        "outputId": "1964b045-1809-41f5-90e6-9342323209fa"
      },
      "execution_count": null,
      "outputs": [
        {
          "output_type": "stream",
          "name": "stdout",
          "text": [
            "Mean MAE:  19.31483620965843\n",
            "Std Dev MAE:  2.4092567889760956\n"
          ]
        }
      ]
    },
    {
      "cell_type": "markdown",
      "source": [
        "# Effeciency"
      ],
      "metadata": {
        "id": "QnCXMLhWXP_Q"
      }
    },
    {
      "cell_type": "code",
      "source": [
        "from sklearn.metrics import r2_score, mean_squared_error\n",
        "\n",
        "# make predictions on the entire dataset using the fitted model\n",
        "Y_pred = reg.predict(X)\n",
        "\n",
        "# calculate the R-squared score\n",
        "r2 = r2_score(Y, Y_pred)\n",
        "\n",
        "# calculate the mean squared error\n",
        "mse = mean_squared_error(Y, Y_pred)\n",
        "\n",
        "# calculate the root mean squared error\n",
        "rmse = np.sqrt(mse)\n",
        "\n",
        "# print the evaluation metrics\n",
        "print(\"R-squared score: \", r2)\n",
        "print(\"Mean Squared Error: \", mse)\n",
        "print(\"Root Mean Squared Error: \", rmse)"
      ],
      "metadata": {
        "colab": {
          "base_uri": "https://localhost:8080/"
        },
        "id": "5frUY15bUHbi",
        "outputId": "d0030edb-d93d-474f-d75d-9831cb10c532"
      },
      "execution_count": null,
      "outputs": [
        {
          "output_type": "stream",
          "name": "stdout",
          "text": [
            "R-squared score:  0.9625426309862606\n",
            "Mean Squared Error:  506.11284735601515\n",
            "Root Mean Squared Error:  22.49695195700998\n"
          ]
        }
      ]
    }
  ]
}