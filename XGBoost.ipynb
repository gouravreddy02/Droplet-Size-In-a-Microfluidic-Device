{
  "nbformat": 4,
  "nbformat_minor": 0,
  "metadata": {
    "colab": {
      "provenance": [],
      "authorship_tag": "ABX9TyOEKbDs1WU/Ehpp1TRATVWN",
      "include_colab_link": true
    },
    "kernelspec": {
      "name": "python3",
      "display_name": "Python 3"
    },
    "language_info": {
      "name": "python"
    }
  },
  "cells": [
    {
      "cell_type": "markdown",
      "metadata": {
        "id": "view-in-github",
        "colab_type": "text"
      },
      "source": [
        "<a href=\"https://colab.research.google.com/github/gouravreddy02/Droplet-Size-In-a-Microfluidic-Device/blob/main/XGBoost.ipynb\" target=\"_parent\"><img src=\"https://colab.research.google.com/assets/colab-badge.svg\" alt=\"Open In Colab\"/></a>"
      ]
    },
    {
      "cell_type": "code",
      "execution_count": null,
      "metadata": {
        "id": "4lmTbDwrFDUR"
      },
      "outputs": [],
      "source": [
        "import xgboost as xgb\n",
        "from sklearn.model_selection import train_test_split\n",
        "from sklearn.metrics import r2_score, mean_squared_error\n",
        "import pandas as pd\n",
        "import numpy as np"
      ]
    },
    {
      "cell_type": "code",
      "source": [
        "df = pd.read_csv('Droplet_Size.csv')"
      ],
      "metadata": {
        "id": "ia72zUo1IJIQ"
      },
      "execution_count": null,
      "outputs": []
    },
    {
      "cell_type": "code",
      "source": [
        "# split data into input features (X) and output variable (Y)\n",
        "X = df.iloc[:, :-1]\n",
        "Y = df.iloc[:, -1]\n",
        "\n",
        "# split data into training and testing sets\n",
        "X_train, X_test, Y_train, Y_test = train_test_split(X, Y, test_size=0.2, random_state=123)\n",
        "\n"
      ],
      "metadata": {
        "id": "lDtD4wPZHC4F"
      },
      "execution_count": null,
      "outputs": []
    },
    {
      "cell_type": "code",
      "source": [
        "# set XGBoost parameters\n",
        "params = {\n",
        "    'max_depth': 4,\n",
        "    'eta': 0.1,\n",
        "    'subsample': 0.8,\n",
        "    'colsample_bytree': 0.8,\n",
        "    'objective': 'reg:squarederror'\n",
        "}\n",
        "\n",
        "# fit the XGBoost model to the training data\n",
        "dtrain = xgb.DMatrix(X_train, label=Y_train)\n",
        "model = xgb.train(params, dtrain)\n",
        "\n",
        "# make predictions on the test data\n",
        "dtest = xgb.DMatrix(X_test)\n",
        "Y_pred = model.predict(dtest)"
      ],
      "metadata": {
        "id": "BN8C31u8HFI6"
      },
      "execution_count": null,
      "outputs": []
    },
    {
      "cell_type": "code",
      "source": [
        "# calculate evaluation metrics\n",
        "r2 = r2_score(Y_test, Y_pred)\n",
        "rmse = np.sqrt(mean_squared_error(Y_test, Y_pred))\n",
        "\n",
        "# print the evaluation metrics\n",
        "print(\"R-squared score: %.3f\" % r2)\n",
        "print(\"Root Mean Squared Error: %.3f\" % rmse)"
      ],
      "metadata": {
        "colab": {
          "base_uri": "https://localhost:8080/"
        },
        "id": "oarCMTHeHMs9",
        "outputId": "bee8d6b7-ce1e-4eea-d38f-3a2439eb8d43"
      },
      "execution_count": null,
      "outputs": [
        {
          "output_type": "stream",
          "name": "stdout",
          "text": [
            "R-squared score: -0.427\n",
            "Root Mean Squared Error: 117.212\n"
          ]
        }
      ]
    },
    {
      "cell_type": "code",
      "source": [],
      "metadata": {
        "id": "A4joeuSKHNdA"
      },
      "execution_count": null,
      "outputs": []
    }
  ]
}